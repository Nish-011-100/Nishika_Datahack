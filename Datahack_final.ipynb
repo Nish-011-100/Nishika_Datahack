{
 "cells": [
  {
   "cell_type": "code",
   "execution_count": null,
   "metadata": {},
   "outputs": [],
   "source": []
  },
  {
   "cell_type": "code",
   "execution_count": 19,
   "metadata": {},
   "outputs": [],
   "source": [
    "import pandas as pd\n",
    "from sklearn.impute import SimpleImputer\n",
    "from sklearn.preprocessing import LabelEncoder, StandardScaler\n",
    "from sklearn.linear_model import LogisticRegression\n",
    "from sklearn.naive_bayes import GaussianNB\n",
    "from sklearn import svm\n",
    "from sklearn.metrics import roc_auc_score"
   ]
  },
  {
   "cell_type": "code",
   "execution_count": 20,
   "metadata": {},
   "outputs": [],
   "source": [
    "train_features = pd.read_csv('training_set_features.csv')\n",
    "train_labels = pd.read_csv('training_set_labels.csv')\n",
    "test_features = pd.read_csv('test_set_features.csv')\n",
    "\n",
    "\n",
    "train_data = pd.merge(train_features, train_labels, on='respondent_id')"
   ]
  },
  {
   "cell_type": "code",
   "execution_count": 21,
   "metadata": {},
   "outputs": [],
   "source": [
    "X_train = train_data.drop(columns=['respondent_id', 'xyz_vaccine', 'seasonal_vaccine'])\n",
    "y_train_xyz = train_data['xyz_vaccine']\n",
    "y_train_s = train_data['seasonal_vaccine']\n",
    "\n",
    "X_test = test_features.drop(columns=['respondent_id'])"
   ]
  },
  {
   "cell_type": "code",
   "execution_count": 22,
   "metadata": {},
   "outputs": [],
   "source": [
    "imputer = SimpleImputer(strategy='most_frequent')\n",
    "X_i = imputer.fit_transform(X_train)\n",
    "X_test_i = imputer.transform(X_test)\n",
    "X_i = pd.DataFrame(X_i, columns=X_train.columns)\n",
    "X_test_i = pd.DataFrame(X_test_i, columns=X_test.columns)"
   ]
  },
  {
   "cell_type": "code",
   "execution_count": 23,
   "metadata": {},
   "outputs": [],
   "source": [
    "headings = {}\n",
    "for column in X_train.columns:\n",
    "    if X_train[column].dtype == 'object':\n",
    "        le = LabelEncoder()\n",
    "        X_i[column] = le.fit_transform(X_i[column])\n",
    "        X_test_i[column] = le.transform(X_test_i[column])\n",
    "        headings[column] = le"
   ]
  },
  {
   "cell_type": "code",
   "execution_count": 24,
   "metadata": {},
   "outputs": [],
   "source": [
    "scaler = StandardScaler()\n",
    "X_train = scaler.fit_transform(X_i)\n",
    "X_test = scaler.transform(X_test_i)"
   ]
  },
  {
   "cell_type": "code",
   "execution_count": 25,
   "metadata": {},
   "outputs": [
    {
     "name": "stdout",
     "output_type": "stream",
     "text": [
      "ROC AUC in Logistic  0.84\n"
     ]
    }
   ],
   "source": [
    "lr_xyz = LogisticRegression(max_iter=1000)\n",
    "lr_xyz.fit(X_i, y_train_xyz)\n",
    "lr_s = LogisticRegression(max_iter=1000)\n",
    "lr_s.fit(X_i, y_train_s)\n",
    "roc_auc_xyz_lr = roc_auc_score(y_train_xyz, lr_xyz.predict_proba(X_i)[:, 1],average='macro')\n",
    "roc_auc_seasonal_lr = roc_auc_score(y_train_s, lr_s.predict_proba(X_i)[:, 1],average='macro')\n",
    "print(f\"ROC AUC in Logistic \",round((roc_auc_xyz_lr+roc_auc_seasonal_lr )/2,2))\n",
    "xyz_vaccine_lr = lr_xyz.predict_proba(X_test_i)[:, 1] \n",
    "seasonal_vaccine_lr = lr_s.predict_proba(X_test_i)[:, 1]"
   ]
  },
  {
   "cell_type": "code",
   "execution_count": 26,
   "metadata": {},
   "outputs": [
    {
     "name": "stdout",
     "output_type": "stream",
     "text": [
      "ROC AUC in Guassian Naive Bias is  0.79\n"
     ]
    }
   ],
   "source": [
    "gnb_xyz = GaussianNB()\n",
    "gnb_xyz.fit(X_i, y_train_xyz)\n",
    "gnb_s = GaussianNB()\n",
    "gnb_s.fit(X_i, y_train_s)\n",
    "roc_auc_xyz_gnb = roc_auc_score(y_train_xyz, gnb_xyz.predict_proba(X_i)[:, 1])\n",
    "roc_auc_seasonal_gnb = roc_auc_score(y_train_s, gnb_s.predict_proba(X_i)[:, 1]) \n",
    "print(f\"ROC AUC in Guassian Naive Bias is \",round((roc_auc_xyz_gnb+roc_auc_seasonal_gnb)/2,2))\n",
    "\n",
    "xyz_vaccine_gnb = gnb_xyz.predict_proba(X_test_i)[:, 1]\n",
    "seasonal_vaccine_gnb = gnb_s.predict_proba(X_test_i)[:, 1]"
   ]
  },
  {
   "cell_type": "code",
   "execution_count": 27,
   "metadata": {},
   "outputs": [
    {
     "name": "stdout",
     "output_type": "stream",
     "text": [
      "Submission file 'final_submission.csv' created successfully.\n"
     ]
    }
   ],
   "source": [
    "test_ids = test_features['respondent_id']\n",
    "submission = pd.DataFrame({\n",
    "    'respondent_id': test_ids,\n",
    "    'xyz_vaccine_lr':xyz_vaccine_lr ,\n",
    "    'seasonal_vaccine_lr': seasonal_vaccine_lr,\n",
    "    'xyz_vaccine_gnb':xyz_vaccine_gnb ,\n",
    "    'seasonal_vaccine_gnb':seasonal_vaccine_gnb ,\n",
    "    \n",
    "})\n",
    "\n",
    "submission['xyz_vaccine'] =round(submission['xyz_vaccine_lr'] ,2)\n",
    "submission['seasonal_vaccine'] = round(submission['seasonal_vaccine_lr'],2)\n",
    "\n",
    "submission = submission[['respondent_id', 'xyz_vaccine', 'seasonal_vaccine']]\n",
    "\n",
    "submission.to_csv('final_submission.csv', index=False)\n",
    "\n",
    "print(\"Submission file 'final_submission.csv' created successfully.\")\n"
   ]
  }
 ],
 "metadata": {
  "kernelspec": {
   "display_name": "Python 3",
   "language": "python",
   "name": "python3"
  },
  "language_info": {
   "codemirror_mode": {
    "name": "ipython",
    "version": 3
   },
   "file_extension": ".py",
   "mimetype": "text/x-python",
   "name": "python",
   "nbconvert_exporter": "python",
   "pygments_lexer": "ipython3",
   "version": "3.11.3"
  }
 },
 "nbformat": 4,
 "nbformat_minor": 2
}
